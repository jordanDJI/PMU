{
 "cells": [
  {
   "cell_type": "code",
   "execution_count": 11,
   "metadata": {},
   "outputs": [],
   "source": [
    "import json\n",
    "from collections.abc import Mapping"
   ]
  },
  {
   "cell_type": "code",
   "execution_count": 12,
   "metadata": {},
   "outputs": [],
   "source": [
    "def load_json(file_path):\n",
    "    \"\"\"Charge un fichier JSON.\"\"\"\n",
    "    with open(file_path, 'r', encoding='utf-8') as f:\n",
    "        return json.load(f)\n"
   ]
  },
  {
   "cell_type": "code",
   "execution_count": 13,
   "metadata": {},
   "outputs": [],
   "source": [
    "def flatten_json(d, prefix=''):\n",
    "    \"\"\"Aplatit un JSON imbriqué en un dictionnaire à clé unique.\"\"\"\n",
    "    items = {}\n",
    "    if isinstance(d, Mapping):\n",
    "        for k, v in d.items():\n",
    "            new_key = f\"{prefix}.{k}\" if prefix else k\n",
    "            items.update(flatten_json(v, new_key))\n",
    "    elif isinstance(d, list):\n",
    "        for i, v in enumerate(d):\n",
    "            items.update(flatten_json(v, f\"{prefix}[{i}]\") if isinstance(v, (Mapping, list)) else {f\"{prefix}[{i}]\": v})\n",
    "    else:\n",
    "        items[prefix] = d\n",
    "    return items"
   ]
  },
  {
   "cell_type": "code",
   "execution_count": 14,
   "metadata": {},
   "outputs": [],
   "source": [
    "def compare_json(dump_json, api_json):\n",
    "    \"\"\"Compare deux fichiers JSON et détecte les différences.\"\"\"\n",
    "    dump_flat = flatten_json(dump_json)\n",
    "    api_flat = flatten_json(api_json)\n",
    "    \n",
    "    dump_keys = set(dump_flat.keys())\n",
    "    api_keys = set(api_flat.keys())\n",
    "    \n",
    "    common_keys = dump_keys & api_keys\n",
    "    missing_in_dump = api_keys - dump_keys\n",
    "    missing_in_api = dump_keys - api_keys\n",
    "    \n",
    "    differences = []\n",
    "    for key in common_keys:\n",
    "        if dump_flat[key] != api_flat[key]:\n",
    "            differences.append({\n",
    "                \"key\": key,\n",
    "                \"dump_value\": dump_flat[key],\n",
    "                \"api_value\": api_flat[key],\n",
    "                \"type\": \"format_difference\" if isinstance(dump_flat[key], str) and isinstance(api_flat[key], str) else \"value_mismatch\"\n",
    "            })\n",
    "    \n",
    "    return {\n",
    "        \"summary\": {\n",
    "            \"total_keys_dump\": len(dump_keys),\n",
    "            \"total_keys_api\": len(api_keys),\n",
    "            \"common_keys\": len(common_keys),\n",
    "            \"missing_in_dump\": len(missing_in_dump),\n",
    "            \"missing_in_api\": len(missing_in_api)\n",
    "        },\n",
    "        \"missing_keys_in_dump\": list(missing_in_dump),\n",
    "        \"missing_keys_in_api\": list(missing_in_api),\n",
    "        \"differences\": differences\n",
    "    }"
   ]
  },
  {
   "cell_type": "code",
   "execution_count": 15,
   "metadata": {},
   "outputs": [],
   "source": [
    "def comp(dump_file, api_file, output_file):\n",
    "    dump_json = load_json(dump_file)\n",
    "    api_json = load_json(api_file)\n",
    "    result = compare_json(dump_json, api_json)\n",
    "    \n",
    "    with open(output_file, 'w', encoding='utf-8') as f:\n",
    "        json.dump(result, f, indent=4, ensure_ascii=False)\n",
    "    \n",
    "    print(f\"Comparaison terminée ! Résultat enregistré dans {output_file}\")"
   ]
  },
  {
   "cell_type": "code",
   "execution_count": 18,
   "metadata": {},
   "outputs": [
    {
     "name": "stdout",
     "output_type": "stream",
     "text": [
      "Comparaison terminée ! Résultat enregistré dans G2_18_25_plat.json\n"
     ]
    }
   ],
   "source": [
    "comp(\"G2_2018.json\", \"G2_2025.json\", \"G2_18_25_plat.json\")"
   ]
  },
  {
   "cell_type": "code",
   "execution_count": null,
   "metadata": {},
   "outputs": [],
   "source": []
  }
 ],
 "metadata": {
  "kernelspec": {
   "display_name": "data_env",
   "language": "python",
   "name": "python3"
  },
  "language_info": {
   "codemirror_mode": {
    "name": "ipython",
    "version": 3
   },
   "file_extension": ".py",
   "mimetype": "text/x-python",
   "name": "python",
   "nbconvert_exporter": "python",
   "pygments_lexer": "ipython3",
   "version": "3.11.9"
  }
 },
 "nbformat": 4,
 "nbformat_minor": 2
}
